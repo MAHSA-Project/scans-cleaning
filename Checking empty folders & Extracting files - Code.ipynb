{
 "cells": [
  {
   "cell_type": "code",
   "execution_count": 1,
   "id": "7bc9bec4",
   "metadata": {},
   "outputs": [],
   "source": [
    "import os\n",
    "import shutil\n",
    "import pandas as pd"
   ]
  },
  {
   "cell_type": "code",
   "execution_count": 2,
   "id": "8cdd5b73",
   "metadata": {},
   "outputs": [],
   "source": [
    "#Creating a list of all empty folders.\n",
    "\n",
    "# 1. Create a list to store empty folders\n",
    "# 2. Check all the files in given path using os.walk() :\n",
    "#    For each folder, check if it has no files and sub directories. \n",
    "#    If yes then add its path in the list."
   ]
  },
  {
   "cell_type": "code",
   "execution_count": 3,
   "id": "e9cad83c",
   "metadata": {},
   "outputs": [],
   "source": [
    "listOfEmptyDirs = list()\n",
    "\n",
    "dirname = \"C:/Users/marsu/OneDrive - University of Cambridge/Maria/Test\"\n"
   ]
  },
  {
   "cell_type": "code",
   "execution_count": 4,
   "id": "8fe6b5bb",
   "metadata": {},
   "outputs": [
    {
     "data": {
      "text/plain": [
       "['C:/Users/marsu/OneDrive - University of Cambridge/Maria/Test\\\\Folder_2',\n",
       " 'C:/Users/marsu/OneDrive - University of Cambridge/Maria/Test\\\\Folder_3',\n",
       " 'C:/Users/marsu/OneDrive - University of Cambridge/Maria/Test\\\\Folder_4',\n",
       " 'C:/Users/marsu/OneDrive - University of Cambridge/Maria/Test\\\\Folder_5',\n",
       " 'C:/Users/marsu/OneDrive - University of Cambridge/Maria/Test\\\\Folder_7',\n",
       " 'C:/Users/marsu/OneDrive - University of Cambridge/Maria/Test\\\\Folder_9']"
      ]
     },
     "execution_count": 4,
     "metadata": {},
     "output_type": "execute_result"
    }
   ],
   "source": [
    "for (dirpath, dirnames, filenames) in os.walk(dirname):\n",
    "    if len(dirnames) == 0 and len(filenames) == 0 :\n",
    "        listOfEmptyDirs.append(dirpath)\n",
    "        \n",
    "listOfEmptyDirs"
   ]
  },
  {
   "cell_type": "code",
   "execution_count": 5,
   "id": "b9e062d6",
   "metadata": {},
   "outputs": [
    {
     "name": "stdout",
     "output_type": "stream",
     "text": [
      "['Test\\\\Folder_2', 'Test\\\\Folder_3', 'Test\\\\Folder_4', 'Test\\\\Folder_5', 'Test\\\\Folder_7', 'Test\\\\Folder_9']\n"
     ]
    },
    {
     "data": {
      "text/html": [
       "<div>\n",
       "<style scoped>\n",
       "    .dataframe tbody tr th:only-of-type {\n",
       "        vertical-align: middle;\n",
       "    }\n",
       "\n",
       "    .dataframe tbody tr th {\n",
       "        vertical-align: top;\n",
       "    }\n",
       "\n",
       "    .dataframe thead th {\n",
       "        text-align: right;\n",
       "    }\n",
       "</style>\n",
       "<table border=\"1\" class=\"dataframe\">\n",
       "  <thead>\n",
       "    <tr style=\"text-align: right;\">\n",
       "      <th></th>\n",
       "      <th>0</th>\n",
       "    </tr>\n",
       "  </thead>\n",
       "  <tbody>\n",
       "    <tr>\n",
       "      <th>0</th>\n",
       "      <td>Test\\Folder_2</td>\n",
       "    </tr>\n",
       "    <tr>\n",
       "      <th>1</th>\n",
       "      <td>Test\\Folder_3</td>\n",
       "    </tr>\n",
       "    <tr>\n",
       "      <th>2</th>\n",
       "      <td>Test\\Folder_4</td>\n",
       "    </tr>\n",
       "    <tr>\n",
       "      <th>3</th>\n",
       "      <td>Test\\Folder_5</td>\n",
       "    </tr>\n",
       "    <tr>\n",
       "      <th>4</th>\n",
       "      <td>Test\\Folder_7</td>\n",
       "    </tr>\n",
       "    <tr>\n",
       "      <th>5</th>\n",
       "      <td>Test\\Folder_9</td>\n",
       "    </tr>\n",
       "  </tbody>\n",
       "</table>\n",
       "</div>"
      ],
      "text/plain": [
       "               0\n",
       "0  Test\\Folder_2\n",
       "1  Test\\Folder_3\n",
       "2  Test\\Folder_4\n",
       "3  Test\\Folder_5\n",
       "4  Test\\Folder_7\n",
       "5  Test\\Folder_9"
      ]
     },
     "execution_count": 5,
     "metadata": {},
     "output_type": "execute_result"
    }
   ],
   "source": [
    "#Split pathname and create a csv with output\n",
    "\n",
    "output_dir = 'C:/Users/marsu/OneDrive - University of Cambridge/Maria/Test/'\n",
    "\n",
    "filename = os.path.join(output_dir, 'listOfEmptyDirs.csv')\n",
    "\n",
    "pathlist = []\n",
    "filelist = []\n",
    "for item in listOfEmptyDirs:\n",
    "     pathlist.append(item.rsplit(\"/\",1)[0])\n",
    "     filelist.append(item.rsplit(\"/\",1)[1])\n",
    "\n",
    "print(filelist)\n",
    "data = pd.DataFrame(filelist)\n",
    "data.to_csv(filename, index=False)\n",
    "\n",
    "data\n"
   ]
  },
  {
   "cell_type": "code",
   "execution_count": 6,
   "id": "22b6c219",
   "metadata": {},
   "outputs": [],
   "source": [
    "# Extract all files from folders contained in the main directory, and delete empty folders.\n",
    "\n",
    "subfolders = [f.path for f in os.scandir(dirname) if f.is_dir()]\n",
    "\n",
    "for sub in subfolders:\n",
    "    for f in os.listdir(sub):\n",
    "        src = os.path.join(sub, f)\n",
    "        dst = os.path.join(dirname, f)\n",
    "        shutil.move(src, dst)\n",
    "        shutil.rmtree(sub)  #delete folders"
   ]
  }
 ],
 "metadata": {
  "kernelspec": {
   "display_name": "Python 3 (ipykernel)",
   "language": "python",
   "name": "python3"
  },
  "language_info": {
   "codemirror_mode": {
    "name": "ipython",
    "version": 3
   },
   "file_extension": ".py",
   "mimetype": "text/x-python",
   "name": "python",
   "nbconvert_exporter": "python",
   "pygments_lexer": "ipython3",
   "version": "3.9.7"
  }
 },
 "nbformat": 4,
 "nbformat_minor": 5
}
